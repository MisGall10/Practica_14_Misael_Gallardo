{
  "nbformat": 4,
  "nbformat_minor": 0,
  "metadata": {
    "colab": {
      "provenance": [],
      "mount_file_id": "1B1HaTBF7BpeJZLpbtgRuqu8ZzOd2nAQM",
      "authorship_tag": "ABX9TyOhNyF4A7gAD/T6lbLyR0JZ",
      "include_colab_link": true
    },
    "kernelspec": {
      "name": "python3",
      "display_name": "Python 3"
    },
    "language_info": {
      "name": "python"
    }
  },
  "cells": [
    {
      "cell_type": "markdown",
      "metadata": {
        "id": "view-in-github",
        "colab_type": "text"
      },
      "source": [
        "<a href=\"https://colab.research.google.com/github/MisGall10/Practica_14_Misael_Gallardo/blob/main/Practica14MAGC.ipynb\" target=\"_parent\"><img src=\"https://colab.research.google.com/assets/colab-badge.svg\" alt=\"Open In Colab\"/></a>"
      ]
    },
    {
      "cell_type": "markdown",
      "source": [
        "# **Practica # 14. Limpieza y Transformación de Datos Categóricos**\n",
        "\n",
        "El objetivo de esta actividad es que los estudiantes practiquen los temas vistos de limpieza y transformación de datos categóricos.\n",
        "\n",
        "**Instrucciones:**\n",
        "\n",
        "1. Descarga el archivo CSV, nls97, proporcionado en esta tarea. También lo puedes encontrar en recursos.\n",
        "2. Crea un notebook en colab y guarda el archivo csv descargado en tu drive.\n",
        "3. Agrega secciones en el colab poniendo como título el nombre de cada ejercicio\n"
      ],
      "metadata": {
        "id": "6Hwboy9MzPD0"
      }
    },
    {
      "cell_type": "code",
      "execution_count": null,
      "metadata": {
        "id": "La8LwIozzHXZ"
      },
      "outputs": [],
      "source": [
        "from google.colab import drive\n",
        "drive.mount('/content/drive')"
      ]
    },
    {
      "cell_type": "markdown",
      "source": [
        "---\n",
        "\n",
        "**Ejercicio 01: Errores Tipográficos y Valores Inconsistentes: maritalstatus**\n",
        "\n",
        "1. Imprime de la columna 'maritalstatus' los valores únicos.\n",
        "2. Imprime la frecuencia de cada valor único\n",
        "3. Cambia el valor 'Never-Married' a 'Single'\n",
        "4. Imprime la frecuencia de cada valor único.\n"
      ],
      "metadata": {
        "id": "ig8gneGB3ls4"
      }
    },
    {
      "cell_type": "code",
      "source": [
        "#Importamos la libreria pandas y asignamos un alias\n",
        "import pandas as pd\n",
        "#Cargamos el dataframe con ayudad de la libreria\n",
        "df = pd.read_csv('/content/drive/MyDrive/ClassFiles/Programacion/Unidad02/nls97.csv')\n",
        "#Imprimmos de la columna 'maritalstatus' los valores unicos\n",
        "print('Valores unicos en maritalstatus (Estado marital):')\n",
        "print(df['maritalstatus'].unique())\n",
        "print('\\n')\n",
        "#Imprimos la frecuencia de cada valor unico\n",
        "print('Frecuencia de datos en maritalstatus (Estado marital) antes de la modificacion:')\n",
        "print(df['maritalstatus'].value_counts())\n",
        "print('\\n')\n",
        "#Cambiamos el valor de 'Never-married' a 'Single'\n",
        "df['maritalstatus'] = df['maritalstatus'].replace({'Never-married': 'Single'})\n",
        "#Imprimomos la frecuencia de cada valor unico\n",
        "print('Frecuencia de datos en maritalstatus (Estado marital) despues de la modificacion:')\n",
        "print(df['maritalstatus'].value_counts())"
      ],
      "metadata": {
        "colab": {
          "base_uri": "https://localhost:8080/"
        },
        "id": "XuwRk2_R32zd",
        "outputId": "c1822721-ae58-4466-bf1a-40e30efeea91"
      },
      "execution_count": 21,
      "outputs": [
        {
          "output_type": "stream",
          "name": "stdout",
          "text": [
            "Valores unicos en maritalstatus (Estado marital):\n",
            "['Married' 'Never-married' nan 'Divorced' 'Separated' 'Widowed']\n",
            "\n",
            "\n",
            "Frecuencia de datos en maritalstatus (Estado marital) antes de la modificacion:\n",
            "maritalstatus\n",
            "Married          3066\n",
            "Never-married    2766\n",
            "Divorced          663\n",
            "Separated         154\n",
            "Widowed            23\n",
            "Name: count, dtype: int64\n",
            "\n",
            "\n",
            "Frecuencia de datos en maritalstatus (Estado marital) despues de la modificacion:\n",
            "maritalstatus\n",
            "Married      3066\n",
            "Single       2766\n",
            "Divorced      663\n",
            "Separated     154\n",
            "Widowed        23\n",
            "Name: count, dtype: int64\n"
          ]
        }
      ]
    },
    {
      "cell_type": "markdown",
      "source": [
        "---\n",
        "**Ejercicio 02: Errores Tipográficos y Valores Inconsistentes: highestdegree.**\n",
        "\n",
        "1. Imprime de la columna 'highestdegrees' los valores únicos.\n",
        "2. Imprime la frecuencia de cada valor único\n",
        "3. Observa que cada valor categórico empieza con 0. Modifica las categorías para que todas estén en minúsculas y ninguna empiece con un número. Por ejemplo, si dice \"2. High School\", debería ser 'high school.\n",
        "3. Los cambios se realizarán en la misma columna 'highestdegrees'.\n",
        "4. Imprime los nuevos valores únicos.\n"
      ],
      "metadata": {
        "id": "8gXm_NAI33XE"
      }
    },
    {
      "cell_type": "code",
      "source": [
        "#Imprimos de la columna 'highestdegree' los valores unicos\n",
        "print('Valores unicos en highestdegree (Grado de estudios):')\n",
        "print(df['highestdegree'].unique())\n",
        "print('\\n')\n",
        "#Imprimos la frecuencia de cada valor unico\n",
        "print('Frecuencia de datos en highestdegree (Grado de estudios) antes de la modificacion:')\n",
        "print(df['highestdegree'].value_counts())\n",
        "print('\\n')\n",
        "#Realizamos los cambios para borrar el indice de la cada categoria, asi como\n",
        "#hacer todos en minusculas (Todo en la misma columna 'highestdegree)\n",
        "df['highestdegree'] = df['highestdegree'].str.replace('^\\d+\\.', '', regex=True).str.lower()\n",
        "#Impriimos los nuevos valores unicos\n",
        "print('Valores unicos en highestdegree (Grado de estudios) despues de la modificacion:')\n",
        "print(df['highestdegree'].unique())\n",
        "print('\\n')\n",
        "#Imprimos la frecuencia de cada valor unico\n",
        "print('Frecuencia de datos en highestdegree (Grado de estudios) despues de la modificacion:')\n",
        "print(df['highestdegree'].value_counts())"
      ],
      "metadata": {
        "colab": {
          "base_uri": "https://localhost:8080/"
        },
        "id": "xs6H79FS4Kfv",
        "outputId": "5ffb8e3e-de9a-437a-eb3d-39e0c5345c59"
      },
      "execution_count": 22,
      "outputs": [
        {
          "output_type": "stream",
          "name": "stdout",
          "text": [
            "Valores unicos en highestdegree (Grado de estudios):\n",
            "['2. High School' '0. None' '4. Bachelors' '3. Associates' '5. Masters'\n",
            " '1. GED' '7. Professional' '6. PhD' nan]\n",
            "\n",
            "\n",
            "Frecuencia de datos en highestdegree (Grado de estudios) antes de la modificacion:\n",
            "highestdegree\n",
            "2. High School     3667\n",
            "4. Bachelors       1673\n",
            "1. GED             1146\n",
            "0. None             953\n",
            "3. Associates       737\n",
            "5. Masters          603\n",
            "7. Professional     120\n",
            "6. PhD               54\n",
            "Name: count, dtype: int64\n",
            "\n",
            "\n",
            "Valores unicos en highestdegree (Grado de estudios) despues de la modificacion:\n",
            "[' high school' ' none' ' bachelors' ' associates' ' masters' ' ged'\n",
            " ' professional' ' phd' nan]\n",
            "\n",
            "\n",
            "Frecuencia de datos en highestdegree (Grado de estudios) despues de la modificacion:\n",
            "highestdegree\n",
            "high school     3667\n",
            "bachelors       1673\n",
            "ged             1146\n",
            "none             953\n",
            "associates       737\n",
            "masters          603\n",
            "professional     120\n",
            "phd               54\n",
            "Name: count, dtype: int64\n"
          ]
        }
      ]
    },
    {
      "cell_type": "markdown",
      "source": [
        "---\n",
        "\n",
        "**Ejercicio 03: Alta Cardinalidad - Frecuencias Bajas**\n",
        "\n",
        "* De la columna 'maritalstatus' une las categorías Widowed y 'Single' en una categoría más general llamada 'Single/No Partner'. Crea una nueva columna, 'marital_grouped' donde aparezcan las nuevas categorías de maritalstatus.\n",
        "* Imprime los valores únicos de la nueva columna 'marital_grouped'.\n",
        "* Imprime la frecuencia de los valores únicos de la nueva columna 'marital_grouped'"
      ],
      "metadata": {
        "id": "IRotnXaW4LAC"
      }
    },
    {
      "cell_type": "code",
      "source": [
        "#De la columna 'maritalstatus' unimos la categorias 'Widowe' y 'Single en una\n",
        "#categorai mas general llamada 'Single/No partner, creando una nueva columna\n",
        "#'marital_grouped' donde apareceran las nuevas categorias de 'marital_staus´\n",
        "df['marital_grouped'] = df['maritalstatus'].replace({'Widowed': 'Single/No Partner', 'Single': 'Single/No Partner'})\n",
        "#Imprimimos los valores unicos de la nueva columna 'marital_grouped'\n",
        "print('Valores unicos en marital_grouped:')\n",
        "print(df['marital_grouped'].unique())\n",
        "print('\\n')\n",
        "#Imprimos la frecuencia de los valores unicos de la nueva columna 'marital_grouped'\n",
        "print('Frecuencia de datos en marital_grouped:')\n",
        "print(df['marital_grouped'].value_counts())"
      ],
      "metadata": {
        "colab": {
          "base_uri": "https://localhost:8080/"
        },
        "id": "XYLyz-fq4SXn",
        "outputId": "da5fd526-6161-47a8-a553-9b885147093c"
      },
      "execution_count": 24,
      "outputs": [
        {
          "output_type": "stream",
          "name": "stdout",
          "text": [
            "Valores unicos en marital_grouped:\n",
            "['Married' 'Single/No Partner' nan 'Divorced' 'Separated']\n",
            "\n",
            "\n",
            "Frecuencia de datos en marital_grouped:\n",
            "marital_grouped\n",
            "Married              3066\n",
            "Single/No Partner    2789\n",
            "Divorced              663\n",
            "Separated             154\n",
            "Name: count, dtype: int64\n"
          ]
        }
      ]
    },
    {
      "cell_type": "markdown",
      "source": [
        "---\n",
        "\n",
        "**Ejercicio 04: Tipos de Datos**\n",
        "\n",
        "* Imprime el tipo de datos de la columna gender\n",
        "* Imprime la cantidad de bytes de dicha columna\n",
        "* Si la columna es de tipo object, modifica a category.\n",
        "* En caso de haber realizado la modificación del tipo de datos, imprime la cantidad de bytes que ocupa dicha columna con el nuevo tipo de datos"
      ],
      "metadata": {
        "id": "8uDgZBY24Sp0"
      }
    },
    {
      "cell_type": "code",
      "source": [
        "#Imprimos el tipo de datos de la columna 'gender'\n",
        "print('Tipo de datos de la columna gender:')\n",
        "print(df['gender'].dtype)\n",
        "print('\\n')\n",
        "#Imprimos la cantidad de bytes de la columna\n",
        "print('Cantidad de bytes de la columna gender antes de la modificacion:')\n",
        "print(df['gender'].memory_usage(deep=True))\n",
        "print('\\n')\n",
        "#Modificamos el tipo de dato de object a category\n",
        "df['gender'] = df['gender'].astype('category')\n",
        "#Imprimimos la cantidad de bytes de la columna\n",
        "print('Cantidad de bytes de la columna gender despues de la modificacion:')\n",
        "print(df['gender'].memory_usage(deep=True))"
      ],
      "metadata": {
        "colab": {
          "base_uri": "https://localhost:8080/"
        },
        "id": "vyirdkDN4Z1v",
        "outputId": "fd291afb-50c5-4798-8bef-7e96514fbca6"
      },
      "execution_count": 27,
      "outputs": [
        {
          "output_type": "stream",
          "name": "stdout",
          "text": [
            "Tipo de datos de la columna gender:\n",
            "object\n",
            "\n",
            "\n",
            "Cantidad de bytes de la columna gender antes de la modificacion:\n",
            "556926\n",
            "\n",
            "\n",
            "Cantidad de bytes de la columna gender despues de la modificacion:\n",
            "9348\n"
          ]
        }
      ]
    }
  ]
}